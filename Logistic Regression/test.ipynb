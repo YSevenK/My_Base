{
 "cells": [
  {
   "cell_type": "markdown",
   "id": "9db01944",
   "metadata": {},
   "source": [
    "Exercise\n",
    "Download employee retention dataset from here: https://www.kaggle.com/giripujar/hr-analytics.\n",
    "\n",
    "Now do some exploratory data analysis to figure out which variables have direct and clear impact on employee retention (i.e. whether they leave the company or continue to work)\n",
    "Plot bar charts showing impact of employee salaries on retention\n",
    "Plot bar charts showing corelation between department and employee retention\n",
    "Now build logistic regression model using variables that were narrowed down in step 1\n",
    "Measure the accuracy of the model"
   ]
  }
 ],
 "metadata": {
  "language_info": {
   "name": "python"
  }
 },
 "nbformat": 4,
 "nbformat_minor": 5
}
